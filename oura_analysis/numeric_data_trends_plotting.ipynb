{
 "cells": [
  {
   "cell_type": "code",
   "execution_count": null,
   "metadata": {},
   "outputs": [],
   "source": [
    "from oura_analysis.loader import OuraDataNumeric\n",
    "import plotly.express as px\n",
    "import pandas as pd\n",
    "import numpy as np\n",
    "\n",
    "import plotly.graph_objects as go\n",
    "\n",
    "oura_data = OuraDataNumeric.from_path(\"../data/oura_2019-06-01_2024-01-01_trends.csv\")\n",
    "\n",
    "hrv_data = oura_data.data_table[[\"date\", \"Average HRV\"]]\n",
    "hrv_data.set_index(\"date\", inplace=True)\n",
    "hrv_data.sort_index(inplace=True)"
   ]
  },
  {
   "cell_type": "markdown",
   "metadata": {},
   "source": [
    "Lets first create a plot of all the average HRV data.\n"
   ]
  },
  {
   "cell_type": "code",
   "execution_count": null,
   "metadata": {},
   "outputs": [],
   "source": [
    "px.scatter(hrv_data, y=\"Average HRV\", title=\"Average HRV over time - all days\")"
   ]
  },
  {
   "cell_type": "markdown",
   "metadata": {},
   "source": [
    "Then lets create rolling averages with different window sizes\n"
   ]
  },
  {
   "cell_type": "code",
   "execution_count": null,
   "metadata": {},
   "outputs": [],
   "source": [
    "closed_setting = \"both\"\n",
    "min_periods_coefficient = 0.9\n",
    "\n",
    "hrv_data_7_days = hrv_data.rolling(7, closed=closed_setting, min_periods=int(7 * min_periods_coefficient)).agg([\"mean\", \"std\"])\n",
    "hrv_data_7_days.columns = [\"Average HRV (7 days): mean\", \"Average HRV (7 days): std\"]\n",
    "hrv_data_7_days[\"Average HRV (7 days): mean + std\"] = hrv_data_7_days[\"Average HRV (7 days): mean\"] + hrv_data_7_days[\"Average HRV (7 days): std\"]\n",
    "hrv_data_7_days[\"Average HRV (7 days): mean - std\"] = hrv_data_7_days[\"Average HRV (7 days): mean\"] - hrv_data_7_days[\"Average HRV (7 days): std\"]\n",
    "\n",
    "hrv_data_28_days = hrv_data.rolling(28, closed=closed_setting, min_periods=int(28 * min_periods_coefficient)).agg([\"mean\", \"std\"])\n",
    "hrv_data_28_days.columns = [\"Average HRV (28 days): mean\", \"Average HRV (28 days): std\"]\n",
    "hrv_data_28_days[\"Average HRV (28 days): mean + std\"] = hrv_data_28_days[\"Average HRV (28 days): mean\"] + hrv_data_28_days[\"Average HRV (28 days): std\"]\n",
    "hrv_data_28_days[\"Average HRV (28 days): mean - std\"] = hrv_data_28_days[\"Average HRV (28 days): mean\"] - hrv_data_28_days[\"Average HRV (28 days): std\"]\n",
    "\n",
    "hrv_data_90_days = hrv_data.rolling(90, closed=closed_setting, min_periods=int(90 * min_periods_coefficient)).agg([\"mean\", \"std\"])\n",
    "hrv_data_90_days.columns = [\"Average HRV (90 days): mean\", \"Average HRV (90 days): std\"]\n",
    "hrv_data_90_days[\"Average HRV (90 days): mean + std\"] = hrv_data_90_days[\"Average HRV (90 days): mean\"] + hrv_data_90_days[\"Average HRV (90 days): std\"]\n",
    "hrv_data_90_days[\"Average HRV (90 days): mean - std\"] = hrv_data_90_days[\"Average HRV (90 days): mean\"] - hrv_data_90_days[\"Average HRV (90 days): std\"]\n",
    "\n",
    "hrv_data_365_days = hrv_data.rolling(365, closed=closed_setting, min_periods=int(365 * min_periods_coefficient)).agg([\"mean\", \"std\"])\n",
    "hrv_data_365_days.columns = [\n",
    "    \"Average HRV (365 days): mean\",\n",
    "    \"Average HRV (365 days): std\",\n",
    "]\n",
    "hrv_data_365_days[\"Average HRV (365 days): mean + std\"] = hrv_data_365_days[\"Average HRV (365 days): mean\"] + hrv_data_365_days[\"Average HRV (365 days): std\"]\n",
    "hrv_data_365_days[\"Average HRV (365 days): mean - std\"] = hrv_data_365_days[\"Average HRV (365 days): mean\"] - hrv_data_365_days[\"Average HRV (365 days): std\"]"
   ]
  },
  {
   "cell_type": "code",
   "execution_count": null,
   "metadata": {},
   "outputs": [],
   "source": [
    "# plot all the rolling averages\n",
    "rolling_plot_data = pd.concat(\n",
    "    [hrv_data, hrv_data_7_days, hrv_data_28_days, hrv_data_90_days, hrv_data_365_days],\n",
    "    axis=1,\n",
    ")\n",
    "px.scatter(rolling_plot_data, title=\"Average HRV over time - rolling averages\")"
   ]
  },
  {
   "cell_type": "code",
   "execution_count": null,
   "metadata": {},
   "outputs": [],
   "source": [
    "def create_plot_trendline_plot(input_data, subtitle: str = \"\"):\n",
    "    # Create a Plotly trace for the mean line\n",
    "    x_values = input_data[\"date\"]\n",
    "    mean_values = input_data[\"rolling_mean\"]\n",
    "    mean_trace = go.Scatter(x=x_values, y=mean_values, mode=\"lines\", name=\"Mean\")\n",
    "\n",
    "    daily_values = input_data[\"daily\"]\n",
    "    daily_trace = go.Scatter(x=x_values, y=daily_values, mode=\"markers\", name=\"Daily\")\n",
    "\n",
    "    upper_bound = input_data[\"upper_bound\"]\n",
    "    lower_bound = input_data[\"lower_bound\"]\n",
    "    shaded_area_trace = go.Scatter(\n",
    "        x=np.concatenate((x_values, x_values[::-1])),\n",
    "        y=np.concatenate((upper_bound, lower_bound[::-1])),\n",
    "        fill=\"tozerox\",\n",
    "        fillcolor=\"rgba(0,100,80,0.2)\",\n",
    "        line=dict(color=\"rgba(255,255,255,0)\"),\n",
    "        name=\"Mean ± Std\",\n",
    "    )\n",
    "\n",
    "    # Create the layout for the plot\n",
    "    layout = go.Layout(\n",
    "        title=f\"Mean and Standard Deviation Plot: {subtitle}\",\n",
    "        xaxis=dict(title=\"X-Axis\"),\n",
    "        yaxis=dict(title=\"Y-Axis\"),\n",
    "        showlegend=True,\n",
    "    )\n",
    "\n",
    "    # Create the figure and add the traces\n",
    "    fig = go.Figure(data=[daily_trace, mean_trace, shaded_area_trace], layout=layout)\n",
    "\n",
    "    # Display the plot\n",
    "    fig.show()"
   ]
  },
  {
   "cell_type": "code",
   "execution_count": null,
   "metadata": {},
   "outputs": [],
   "source": [
    "# plot selected rolling average as shaded trendline\n",
    "rolling_avg_days = 90\n",
    "input_data: pd.DataFrame = hrv_data_90_days.loc[\n",
    "    :,\n",
    "    (\n",
    "        f\"Average HRV ({rolling_avg_days} days): mean\",\n",
    "        f\"Average HRV ({rolling_avg_days} days): mean + std\",\n",
    "        f\"Average HRV ({rolling_avg_days} days): mean - std\",\n",
    "    ),\n",
    "]\n",
    "input_data[\"daily\"] = hrv_data[\"Average HRV\"]\n",
    "input_data = input_data.sort_index()\n",
    "input_data = input_data.reset_index()\n",
    "input_data = input_data.rename(\n",
    "    columns={\n",
    "        f\"Average HRV ({rolling_avg_days} days): mean\": \"rolling_mean\",\n",
    "        f\"Average HRV ({rolling_avg_days} days): mean + std\": \"upper_bound\",\n",
    "        f\"Average HRV ({rolling_avg_days} days): mean - std\": \"lower_bound\",\n",
    "    }\n",
    ")\n",
    "subtitle = f\"HRV norm - (rolling over {rolling_avg_days} days)\"\n",
    "\n",
    "create_plot_trendline_plot(input_data=input_data, subtitle=subtitle)"
   ]
  },
  {
   "cell_type": "code",
   "execution_count": null,
   "metadata": {},
   "outputs": [],
   "source": [
    "# TODO idea color code points below upper bound"
   ]
  }
 ],
 "metadata": {
  "kernelspec": {
   "display_name": "oura-analysis",
   "language": "python",
   "name": "python3"
  },
  "language_info": {
   "codemirror_mode": {
    "name": "ipython",
    "version": 3
   },
   "file_extension": ".py",
   "mimetype": "text/x-python",
   "name": "python",
   "nbconvert_exporter": "python",
   "pygments_lexer": "ipython3",
   "version": "3.12.0"
  }
 },
 "nbformat": 4,
 "nbformat_minor": 2
}
