{
 "cells": [
  {
   "cell_type": "code",
   "execution_count": null,
   "metadata": {},
   "outputs": [],
   "source": [
    "from oura_analysis.loader import OuraData\n",
    "import plotly.express as px\n",
    "import pandas as pd\n",
    "\n",
    "oura_data = OuraData.from_path(\"../data/oura_2019-06-01_2024-01-01_trends.csv\")\n",
    "oura_data.data_table.describe()\n",
    "\n",
    "hrv_data = oura_data.data_table[[\"date\",\"Average HRV\"]]\n",
    "hrv_data.set_index(\"date\", inplace=True)\n"
   ]
  },
  {
   "cell_type": "markdown",
   "metadata": {},
   "source": [
    "Lets first create a plot of all the average HRV data."
   ]
  },
  {
   "cell_type": "code",
   "execution_count": null,
   "metadata": {},
   "outputs": [],
   "source": [
    "px.scatter(hrv_data, y=\"Average HRV\", title=\"Average HRV over time - all days\")"
   ]
  },
  {
   "cell_type": "markdown",
   "metadata": {},
   "source": [
    "Then lets create rolling averages with different window sizes"
   ]
  },
  {
   "cell_type": "code",
   "execution_count": null,
   "metadata": {},
   "outputs": [],
   "source": [
    "closed_setting = \"both\"\n",
    "min_periods_coefficient = 1\n",
    "\n",
    "hrv_data_7_days = hrv_data.rolling(7, closed=closed_setting, min_periods=int(7*min_periods_coefficient)).agg([\"mean\", \"std\"])\n",
    "hrv_data_7_days.columns = [\"Average HRV (7 days): mean\", \"Average HRV (7 days): std\"]\n",
    "hrv_data_7_days[\"Average HRV (7 days): mean + std\"] = hrv_data_7_days[\"Average HRV (7 days): mean\"] + hrv_data_7_days[\"Average HRV (7 days): std\"]\n",
    "hrv_data_7_days[\"Average HRV (7 days): mean - std\"] = hrv_data_7_days[\"Average HRV (7 days): mean\"] - hrv_data_7_days[\"Average HRV (7 days): std\"]\n",
    "\n",
    "hrv_data_28_days = hrv_data.rolling(28, closed=closed_setting, min_periods=int(28*min_periods_coefficient)).agg([\"mean\", \"std\"])\n",
    "hrv_data_28_days.columns = [\"Average HRV (28 days): mean\", \"Average HRV (28 days): std\"]\n",
    "hrv_data_28_days[\"Average HRV (28 days): mean + std\"] = hrv_data_28_days[\"Average HRV (28 days): mean\"] + hrv_data_28_days[\"Average HRV (28 days): std\"]\n",
    "hrv_data_28_days[\"Average HRV (28 days): mean - std\"] = hrv_data_28_days[\"Average HRV (28 days): mean\"] - hrv_data_28_days[\"Average HRV (28 days): std\"]\n",
    "\n",
    "hrv_data_90_days = hrv_data.rolling(90, closed=closed_setting, min_periods=int(90*min_periods_coefficient)).agg([\"mean\", \"std\"])\n",
    "hrv_data_90_days.columns = [\"Average HRV (90 days): mean\", \"Average HRV (90 days): std\"]\n",
    "hrv_data_90_days[\"Average HRV (90 days): mean + std\"] = hrv_data_90_days[\"Average HRV (90 days): mean\"] + hrv_data_90_days[\"Average HRV (90 days): std\"]\n",
    "hrv_data_90_days[\"Average HRV (90 days): mean - std\"] = hrv_data_90_days[\"Average HRV (90 days): mean\"] - hrv_data_90_days[\"Average HRV (90 days): std\"]\n",
    "\n",
    "hrv_data_365_days = hrv_data.rolling(365, closed=closed_setting, min_periods=int(365*min_periods_coefficient)).agg([\"mean\", \"std\"])\n",
    "hrv_data_365_days.columns = [\"Average HRV (365 days): mean\", \"Average HRV (365 days): std\"]\n",
    "hrv_data_365_days[\"Average HRV (365 days): mean + std\"] = hrv_data_365_days[\"Average HRV (365 days): mean\"] + hrv_data_365_days[\"Average HRV (365 days): std\"]\n",
    "hrv_data_365_days[\"Average HRV (365 days): mean - std\"] = hrv_data_365_days[\"Average HRV (365 days): mean\"] - hrv_data_365_days[\"Average HRV (365 days): std\"]\n"
   ]
  },
  {
   "cell_type": "code",
   "execution_count": null,
   "metadata": {},
   "outputs": [],
   "source": [
    "# plot the rolling averages\n",
    "rolling_plot_data = pd.concat([hrv_data, hrv_data_7_days, hrv_data_28_days, hrv_data_90_days, hrv_data_365_days], axis=1)\n",
    "px.scatter(rolling_plot_data, title=\"Average HRV over time - rolling averages\")"
   ]
  },
  {
   "cell_type": "code",
   "execution_count": null,
   "metadata": {},
   "outputs": [],
   "source": []
  }
 ],
 "metadata": {
  "kernelspec": {
   "display_name": "oura-analysis",
   "language": "python",
   "name": "python3"
  },
  "language_info": {
   "codemirror_mode": {
    "name": "ipython",
    "version": 3
   },
   "file_extension": ".py",
   "mimetype": "text/x-python",
   "name": "python",
   "nbconvert_exporter": "python",
   "pygments_lexer": "ipython3",
   "version": "3.12.0"
  }
 },
 "nbformat": 4,
 "nbformat_minor": 2
}
