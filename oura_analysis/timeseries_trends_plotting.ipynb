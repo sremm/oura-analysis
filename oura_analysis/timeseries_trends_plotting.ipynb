{
 "cells": [
  {
   "cell_type": "code",
   "execution_count": null,
   "metadata": {},
   "outputs": [],
   "source": [
    "from pathlib import Path\n",
    "from oura_analysis.loader import OuraDataTimeseries\n",
    "\n",
    "import plotly.graph_objects as go\n",
    "import numpy as np\n",
    "\n",
    "# load data\n",
    "data_path = Path(\"../data\") / \"sleep_HRV_HR_2019-06-01_2024-01-01.json\"\n",
    "\n",
    "oura_data = OuraDataTimeseries.from_path(data_path)\n",
    "\n",
    "\n",
    "def normalise_array(input: np.array, desired_length: int) -> np.array:\n",
    "    # Create an array of equally spaced values from 0 to 1 with desired_length points\n",
    "    target_positions = np.linspace(0, 1, desired_length)\n",
    "    # Create an array of equally spaced values from 0 to 1 with the length of the input array\n",
    "    original_positions = np.linspace(0, 1, len(input))\n",
    "    # Interpolate the values in the input array to the desired_length\n",
    "    result = np.interp(target_positions, original_positions, input)\n",
    "    return result"
   ]
  },
  {
   "cell_type": "code",
   "execution_count": null,
   "metadata": {},
   "outputs": [],
   "source": [
    "def create_plots(input_data):\n",
    "    normalised_data_for_plot = []\n",
    "    normalised_data_arrays = []\n",
    "    original_lengths_hrv = []\n",
    "    for date, timeseries in input_data.items():\n",
    "        original_lengths_hrv.append((date, len(timeseries)))\n",
    "        normalised_timeseries = normalise_array(timeseries, desired_length=100)\n",
    "        normalised_data_for_plot.append({\"date\": date, \"x\": np.arange(len(normalised_timeseries)), \"y\": normalised_timeseries})\n",
    "        normalised_data_arrays.append(normalised_timeseries)\n",
    "\n",
    "    normalised_data_arrays = np.array(normalised_data_arrays)\n",
    "    mean_values = np.nanmean(normalised_data_arrays, axis=0)\n",
    "    std_values = np.nanstd(normalised_data_arrays, axis=0)\n",
    "    upper_bound = mean_values + std_values\n",
    "    lower_bound = mean_values - std_values\n",
    "\n",
    "    # fig = go.Figure()\n",
    "    # # Add traces\n",
    "    # for data in normalised_data_for_plot:\n",
    "    #     fig.add_trace(go.Scatter(x=data[\"x\"], y=data[\"y\"], mode=\"lines\",name=data[\"date\"]))\n",
    "\n",
    "    # fig.show()\n",
    "\n",
    "    # Define the x-values (assuming a linear range from 0 to 1)\n",
    "    x_values = np.linspace(0, 1, len(mean_values))\n",
    "\n",
    "    # Create a Plotly trace for the mean line\n",
    "    mean_trace = go.Scatter(x=x_values, y=mean_values, mode=\"lines\", name=\"Mean\")\n",
    "\n",
    "    shaded_area_trace = go.Scatter(\n",
    "        x=np.concatenate((x_values, x_values[::-1])),\n",
    "        y=np.concatenate((upper_bound, lower_bound[::-1])),\n",
    "        fill=\"tozerox\",\n",
    "        fillcolor=\"rgba(0,100,80,0.2)\",\n",
    "        line=dict(color=\"rgba(255,255,255,0)\"),\n",
    "        name=\"Mean ± Std\",\n",
    "    )\n",
    "\n",
    "    # Create the layout for the plot\n",
    "    layout = go.Layout(title=\"Mean and Standard Deviation Plot\", xaxis=dict(title=\"X-Axis\"), yaxis=dict(title=\"Y-Axis\"), showlegend=True)\n",
    "\n",
    "    # Create the figure and add the traces\n",
    "    fig = go.Figure(data=[mean_trace, shaded_area_trace], layout=layout)\n",
    "\n",
    "    # Display the plot\n",
    "    fig.show()"
   ]
  },
  {
   "cell_type": "code",
   "execution_count": null,
   "metadata": {},
   "outputs": [],
   "source": [
    "# plot HRV data\n",
    "\n",
    "create_plots(oura_data.hrv())"
   ]
  },
  {
   "cell_type": "code",
   "execution_count": null,
   "metadata": {},
   "outputs": [],
   "source": [
    "# plot HR data\n",
    "create_plots(oura_data.heart_rate())"
   ]
  },
  {
   "cell_type": "code",
   "execution_count": null,
   "metadata": {},
   "outputs": [],
   "source": [
    "# normalise data to 100 datapoints\n",
    "\n",
    "\n",
    "import numpy as np\n",
    "\n",
    "# Your input arrays with different lengths\n",
    "arrays = [np.array([1, 2, 3]), np.array([4, 5, 6, 7, 8]), np.array([9, 10, 11, 12, 13, 14, 15])]\n",
    "\n",
    "# Determine the desired length\n",
    "desired_length = 10\n",
    "\n",
    "# Initialize an empty array to store the normalized arrays\n",
    "normalized_arrays = []\n",
    "\n",
    "for arr in arrays:\n",
    "    # Use numpy.interp to interpolate the values to the desired length\n",
    "    normalized_arr = np.interp(np.linspace(0, 1, desired_length), np.linspace(0, 1, len(arr)), arr)\n",
    "    normalized_arrays.append(normalized_arr)\n",
    "\n",
    "# Convert the list of arrays into a NumPy array\n",
    "normalized_arrays = np.array(normalized_arrays)\n",
    "\n",
    "print(normalized_arrays)"
   ]
  }
 ],
 "metadata": {
  "kernelspec": {
   "display_name": "oura-analysis",
   "language": "python",
   "name": "python3"
  },
  "language_info": {
   "codemirror_mode": {
    "name": "ipython",
    "version": 3
   },
   "file_extension": ".py",
   "mimetype": "text/x-python",
   "name": "python",
   "nbconvert_exporter": "python",
   "pygments_lexer": "ipython3",
   "version": "3.12.0"
  }
 },
 "nbformat": 4,
 "nbformat_minor": 2
}
